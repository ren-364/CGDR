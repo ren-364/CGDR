{
 "cells": [
  {
   "cell_type": "code",
   "execution_count": 10,
   "id": "0be65fcb",
   "metadata": {},
   "outputs": [],
   "source": [
    "def ddi_rate_score(record, path='ddi_A_final.pkl'):\n",
    "    # ddi rate\n",
    "    ddi_A = dill.load(open(path, 'rb'))\n",
    "    all_cnt = 0\n",
    "    dd_cnt = 0\n",
    "    for patient in record:\n",
    "        for adm in patient:\n",
    "            med_code_set = adm\n",
    "            for i, med_i in enumerate(med_code_set):\n",
    "                for j, med_j in enumerate(med_code_set):\n",
    "                    if j <= i:\n",
    "                        continue\n",
    "                    all_cnt += 1\n",
    "                    if ddi_A[med_i, med_j] == 1 or ddi_A[med_j, med_i] == 1:\n",
    "                        dd_cnt += 1\n",
    "    if all_cnt == 0:\n",
    "        return 0\n",
    "    return dd_cnt / all_cnt"
   ]
  },
  {
   "cell_type": "code",
   "execution_count": 3,
   "id": "2d8e2587",
   "metadata": {},
   "outputs": [],
   "source": [
    "import dill\n",
    "data = dill.load(open('records_final.pkl', 'rb'))"
   ]
  },
  {
   "cell_type": "code",
   "execution_count": 4,
   "id": "65bb23a0",
   "metadata": {},
   "outputs": [],
   "source": [
    "import numpy as np"
   ]
  },
  {
   "cell_type": "code",
   "execution_count": 8,
   "id": "6656ec9e",
   "metadata": {},
   "outputs": [],
   "source": [
    "smm_record = []\n",
    "for step, input in enumerate(data):\n",
    "    y_pred_label = []\n",
    "    for adm_idx, adm in enumerate(input):\n",
    "        loss1_target = np.zeros((1, 131))\n",
    "        loss1_target[:, adm[2]] = 1\n",
    "        y_pred_label_tmp = np.where(loss1_target == 1)[0]\n",
    "        y_pred_label.append(sorted(y_pred_label_tmp))\n",
    "    smm_record.append(y_pred_label)\n",
    "ddi_rate = ddi_rate_score(smm_record)"
   ]
  },
  {
   "cell_type": "code",
   "execution_count": 12,
   "id": "d9b5873b",
   "metadata": {},
   "outputs": [
    {
     "data": {
      "text/plain": [
       "6350"
      ]
     },
     "execution_count": 12,
     "metadata": {},
     "output_type": "execute_result"
    }
   ],
   "source": [
    "len(smm_record)"
   ]
  },
  {
   "cell_type": "code",
   "execution_count": null,
   "id": "6594d035",
   "metadata": {},
   "outputs": [],
   "source": []
  }
 ],
 "metadata": {
  "kernelspec": {
   "display_name": "Python [conda env:pytorch] *",
   "language": "python",
   "name": "conda-env-pytorch-py"
  },
  "language_info": {
   "codemirror_mode": {
    "name": "ipython",
    "version": 3
   },
   "file_extension": ".py",
   "mimetype": "text/x-python",
   "name": "python",
   "nbconvert_exporter": "python",
   "pygments_lexer": "ipython3",
   "version": "3.8.16"
  }
 },
 "nbformat": 4,
 "nbformat_minor": 5
}
