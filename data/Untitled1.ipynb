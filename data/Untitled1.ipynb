{
 "cells": [
  {
   "cell_type": "code",
   "execution_count": 1,
   "id": "cfb6337b",
   "metadata": {},
   "outputs": [],
   "source": [
    "import dill\n",
    "data = dill.load(open('records_final_demo.pkl','rb'))"
   ]
  },
  {
   "cell_type": "code",
   "execution_count": 2,
   "id": "19033ac5",
   "metadata": {},
   "outputs": [
    {
     "data": {
      "text/plain": [
       "[[[0, 1, 2, 3, 4, 5, 6, 7],\n",
       "  [0, 1, 2],\n",
       "  [0, 1, 2, 3, 4, 5, 6, 7, 8, 9, 10, 11, 12, 13, 14],\n",
       "  17,\n",
       "  1,\n",
       "  1],\n",
       " [[8, 9, 10, 7],\n",
       "  [3, 4, 1],\n",
       "  [0, 1, 2, 3, 5, 4, 6, 7, 8, 9, 10, 12, 14, 15, 16, 17],\n",
       "  17,\n",
       "  0,\n",
       "  1]]"
      ]
     },
     "execution_count": 2,
     "metadata": {},
     "output_type": "execute_result"
    }
   ],
   "source": [
    "data[0]"
   ]
  },
  {
   "cell_type": "code",
   "execution_count": 4,
   "id": "fc66ad8b",
   "metadata": {},
   "outputs": [],
   "source": [
    "set0 = set()\n"
   ]
  },
  {
   "cell_type": "code",
   "execution_count": 37,
   "id": "f83388a8",
   "metadata": {},
   "outputs": [
    {
     "data": {
      "text/plain": [
       "15"
      ]
     },
     "execution_count": 37,
     "metadata": {},
     "output_type": "execute_result"
    }
   ],
   "source": [
    "len(set0)"
   ]
  },
  {
   "cell_type": "code",
   "execution_count": 15,
   "id": "81b12dd5",
   "metadata": {},
   "outputs": [
    {
     "ename": "TypeError",
     "evalue": "unhashable type: 'set'",
     "output_type": "error",
     "traceback": [
      "\u001b[1;31m---------------------------------------------------------------------------\u001b[0m",
      "\u001b[1;31mTypeError\u001b[0m                                 Traceback (most recent call last)",
      "Input \u001b[1;32mIn [15]\u001b[0m, in \u001b[0;36m<cell line: 1>\u001b[1;34m()\u001b[0m\n\u001b[1;32m----> 1\u001b[0m \u001b[43mset0\u001b[49m\u001b[38;5;241;43m.\u001b[39;49m\u001b[43madd\u001b[49m\u001b[43m(\u001b[49m\u001b[38;5;28;43mset\u001b[39;49m\u001b[43m(\u001b[49m\u001b[43mdata\u001b[49m\u001b[43m[\u001b[49m\u001b[38;5;241;43m0\u001b[39;49m\u001b[43m]\u001b[49m\u001b[43m[\u001b[49m\u001b[38;5;241;43m0\u001b[39;49m\u001b[43m]\u001b[49m\u001b[43m[\u001b[49m\u001b[38;5;241;43m2\u001b[39;49m\u001b[43m]\u001b[49m\u001b[43m)\u001b[49m\u001b[43m)\u001b[49m\n",
      "\u001b[1;31mTypeError\u001b[0m: unhashable type: 'set'"
     ]
    }
   ],
   "source": [
    "set0.update(set(data[0][0][2]))"
   ]
  },
  {
   "cell_type": "code",
   "execution_count": 16,
   "id": "8ae721e9",
   "metadata": {},
   "outputs": [],
   "source": [
    "p = []"
   ]
  },
  {
   "cell_type": "code",
   "execution_count": 18,
   "id": "6a597f33",
   "metadata": {},
   "outputs": [
    {
     "data": {
      "text/plain": [
       "[[1]]"
      ]
     },
     "execution_count": 18,
     "metadata": {},
     "output_type": "execute_result"
    }
   ],
   "source": [
    "p"
   ]
  },
  {
   "cell_type": "code",
   "execution_count": 17,
   "id": "4c29be0f",
   "metadata": {},
   "outputs": [],
   "source": [
    "p.append([1])"
   ]
  },
  {
   "cell_type": "code",
   "execution_count": 11,
   "id": "fc2d86c2",
   "metadata": {},
   "outputs": [
    {
     "data": {
      "text/plain": [
       "{0, 1, 2, 3, 4, 5, 6, 7}"
      ]
     },
     "execution_count": 11,
     "metadata": {},
     "output_type": "execute_result"
    }
   ],
   "source": [
    "set(data[0][0][0])"
   ]
  },
  {
   "cell_type": "code",
   "execution_count": 8,
   "id": "28c9f2dc",
   "metadata": {},
   "outputs": [
    {
     "ename": "TypeError",
     "evalue": "unhashable type: 'list'",
     "output_type": "error",
     "traceback": [
      "\u001b[1;31m---------------------------------------------------------------------------\u001b[0m",
      "\u001b[1;31mTypeError\u001b[0m                                 Traceback (most recent call last)",
      "Input \u001b[1;32mIn [8]\u001b[0m, in \u001b[0;36m<cell line: 1>\u001b[1;34m()\u001b[0m\n\u001b[1;32m----> 1\u001b[0m set0\u001b[38;5;241m.\u001b[39mupdate(\u001b[38;5;28;43mset\u001b[39;49m\u001b[43m(\u001b[49m\u001b[43mdata\u001b[49m\u001b[43m[\u001b[49m\u001b[38;5;241;43m0\u001b[39;49m\u001b[43m]\u001b[49m\u001b[43m[\u001b[49m\u001b[38;5;241;43m0\u001b[39;49m\u001b[43m]\u001b[49m\u001b[43m)\u001b[49m)\n",
      "\u001b[1;31mTypeError\u001b[0m: unhashable type: 'list'"
     ]
    }
   ],
   "source": [
    "set0.update(set(data[0][0]))"
   ]
  },
  {
   "cell_type": "code",
   "execution_count": 33,
   "id": "24a9e246",
   "metadata": {},
   "outputs": [],
   "source": [
    "record = []\n",
    "for p in data:\n",
    "    patient = []\n",
    "    diag_set = set()\n",
    "    pro_set = set()\n",
    "    for v in p:\n",
    "        diag_set.update(set(v[0]))\n",
    "        pro_set.update(set(v[1]))\n",
    "    patient.append(list(diag_set))\n",
    "    patient.append(list(pro_set))\n",
    "    patient.append(p[0][3])\n",
    "    patient.append(p[0][4])\n",
    "    patient.append(p[0][5])\n",
    "    record.append(patient)"
   ]
  },
  {
   "cell_type": "code",
   "execution_count": 34,
   "id": "b85b52ba",
   "metadata": {},
   "outputs": [
    {
     "data": {
      "text/plain": [
       "6350"
      ]
     },
     "execution_count": 34,
     "metadata": {},
     "output_type": "execute_result"
    }
   ],
   "source": [
    "len(record)"
   ]
  },
  {
   "cell_type": "code",
   "execution_count": 35,
   "id": "dd7a5333",
   "metadata": {},
   "outputs": [],
   "source": [
    "dill.dump(obj=record, file=open('sum_p_record.pkl','wb'))"
   ]
  },
  {
   "cell_type": "code",
   "execution_count": 38,
   "id": "081dea8a",
   "metadata": {},
   "outputs": [],
   "source": [
    "import numpy"
   ]
  },
  {
   "cell_type": "code",
   "execution_count": 39,
   "id": "d734ab70",
   "metadata": {},
   "outputs": [],
   "source": [
    "a = numpy.zeros((2,2))"
   ]
  },
  {
   "cell_type": "code",
   "execution_count": 40,
   "id": "ec844bf0",
   "metadata": {},
   "outputs": [
    {
     "data": {
      "text/plain": [
       "[[0.0, 0.0], [0.0, 0.0]]"
      ]
     },
     "execution_count": 40,
     "metadata": {},
     "output_type": "execute_result"
    }
   ],
   "source": [
    "a.tolist()"
   ]
  },
  {
   "cell_type": "code",
   "execution_count": null,
   "id": "ca3fcbbd",
   "metadata": {},
   "outputs": [],
   "source": []
  }
 ],
 "metadata": {
  "kernelspec": {
   "display_name": "Python [conda env:pytorch] *",
   "language": "python",
   "name": "conda-env-pytorch-py"
  },
  "language_info": {
   "codemirror_mode": {
    "name": "ipython",
    "version": 3
   },
   "file_extension": ".py",
   "mimetype": "text/x-python",
   "name": "python",
   "nbconvert_exporter": "python",
   "pygments_lexer": "ipython3",
   "version": "3.8.16"
  }
 },
 "nbformat": 4,
 "nbformat_minor": 5
}
